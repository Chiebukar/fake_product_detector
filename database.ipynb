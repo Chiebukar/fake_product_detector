{
 "cells": [
  {
   "cell_type": "code",
   "execution_count": 1,
   "metadata": {
    "scrolled": true
   },
   "outputs": [],
   "source": [
    "import mysql.connector\n",
    "from mysql.connector import Error\n",
    "import pandas as pd"
   ]
  },
  {
   "cell_type": "code",
   "execution_count": 2,
   "metadata": {},
   "outputs": [],
   "source": [
    "def serverConnect(host_name, user_name, password):\n",
    "    connection = None\n",
    "    try:\n",
    "        connection = mysql.connector.connect(host= host_name, user= user_name, password= password)\n",
    "        print('MySQL server connection successfull')\n",
    "    except Error as err:\n",
    "        print(f\"Error: '{err}'\")\n",
    "    return connection"
   ]
  },
  {
   "cell_type": "code",
   "execution_count": 3,
   "metadata": {},
   "outputs": [],
   "source": [
    "def executeQuery(connection, query):\n",
    "    cursor = connection.cursor()\n",
    "    try:\n",
    "        cursor.execute(query)\n",
    "        print('Query succesfully executed')\n",
    "    except Error as err:\n",
    "        print(f\"Error: '{err}'\")"
   ]
  },
  {
   "cell_type": "code",
   "execution_count": 4,
   "metadata": {},
   "outputs": [],
   "source": [
    "def dbConnect(host_name, user_name, password, db_name):\n",
    "    connection = None\n",
    "    try:\n",
    "        connection = mysql.connector.connect(host = host_name, \n",
    "                                            user= user_name, \n",
    "                                            passwd = password,\n",
    "                                            database = db_name)\n",
    "        print('Database connection Sucessful')\n",
    "    except Error as err:\n",
    "        print(f\"Error: '{err}'\")\n",
    "    return connection"
   ]
  },
  {
   "cell_type": "code",
   "execution_count": 5,
   "metadata": {},
   "outputs": [],
   "source": [
    "def readQuery(connection, query):\n",
    "    cursor = connection.cursor()\n",
    "    result = None\n",
    "    \n",
    "    try:\n",
    "        cursor.execute(query)\n",
    "        result = cursor.fetchall()\n",
    "        print('Successfully  retrieved results')\n",
    "        return result\n",
    "    except Error as err:\n",
    "        print(f\"Error: '{err}'\")\n",
    "    "
   ]
  },
  {
   "cell_type": "code",
   "execution_count": 6,
   "metadata": {
    "scrolled": true
   },
   "outputs": [
    {
     "name": "stdout",
     "output_type": "stream",
     "text": [
      "MySQL server connection successfull\n"
     ]
    }
   ],
   "source": [
    "password = '14041995'\n",
    "connection = serverConnect('127.0.0.1', 'root', password)"
   ]
  },
  {
   "cell_type": "code",
   "execution_count": null,
   "metadata": {},
   "outputs": [],
   "source": [
    "# db_query = \"Create database Projects\"  # query to create database\n",
    "# executeQuery(connection, db_query)"
   ]
  },
  {
   "cell_type": "code",
   "execution_count": 8,
   "metadata": {},
   "outputs": [
    {
     "name": "stdout",
     "output_type": "stream",
     "text": [
      "Database connection Sucessful\n",
      "Query succesfully executed\n"
     ]
    }
   ],
   "source": [
    "# query = '''\n",
    "#             Drop table products;\n",
    "#           '''\n",
    "# connection = dbConnect('localhost', 'root', password, 'projects')\n",
    "# executeQuery(connection, query)"
   ]
  },
  {
   "cell_type": "code",
   "execution_count": 9,
   "metadata": {},
   "outputs": [
    {
     "name": "stdout",
     "output_type": "stream",
     "text": [
      "Database connection Sucessful\n",
      "Query succesfully executed\n"
     ]
    }
   ],
   "source": [
    "query = '''Create table products(\n",
    "                        SN int primary key,\n",
    "                        product  varchar(20) not null,\n",
    "                        serial_code varchar(13) not null,\n",
    "                        mnfg_date date,\n",
    "                        exp_date date,\n",
    "                        price float,\n",
    "                        validity varchar(20) not null);\n",
    "           '''\n",
    "connection = dbConnect('127.0.0.1', 'root', password, 'projects')\n",
    "executeQuery(connection, query)"
   ]
  },
  {
   "cell_type": "code",
   "execution_count": 10,
   "metadata": {},
   "outputs": [
    {
     "name": "stdout",
     "output_type": "stream",
     "text": [
      "Query succesfully executed\n"
     ]
    }
   ],
   "source": [
    "# insert data into created table\n",
    "query = \"\"\"insert into products values\n",
    "           (1, 'Faire', '109673462846', '2019-01-12', '2021-07-20', 12500, 'Code Unused'),\n",
    "           (2, 'Faire', '119873452946', '2017-01-12', '2019-07-20', 12500, 'Code Used'),\n",
    "           (3, 'Faire', '139773482866', '2019-12-12', '2021-12-20', 12500, 'Code Unused'),\n",
    "           (4, 'Faire', '159633452846', '2017-05-12', '2019-12-20', 12500, 'Code Unused'),\n",
    "           (5, 'Faire', '246576239745', '2017-05-12', '2019-12-20', 12500, 'Code Used'),\n",
    "           (6, 'Faire', '129643566866', '2019-01-12', '2021-07-20', 12500, 'Code Used');\n",
    "          \"\"\"\n",
    "executeQuery(connection, query)"
   ]
  },
  {
   "cell_type": "code",
   "execution_count": null,
   "metadata": {},
   "outputs": [],
   "source": [
    "# execute_query(connection, 'drop table products')"
   ]
  },
  {
   "cell_type": "code",
   "execution_count": 11,
   "metadata": {
    "scrolled": true
   },
   "outputs": [
    {
     "name": "stdout",
     "output_type": "stream",
     "text": [
      "Successfully  retrieved results\n"
     ]
    },
    {
     "data": {
      "text/html": [
       "<div>\n",
       "<style scoped>\n",
       "    .dataframe tbody tr th:only-of-type {\n",
       "        vertical-align: middle;\n",
       "    }\n",
       "\n",
       "    .dataframe tbody tr th {\n",
       "        vertical-align: top;\n",
       "    }\n",
       "\n",
       "    .dataframe thead th {\n",
       "        text-align: right;\n",
       "    }\n",
       "</style>\n",
       "<table border=\"1\" class=\"dataframe\">\n",
       "  <thead>\n",
       "    <tr style=\"text-align: right;\">\n",
       "      <th></th>\n",
       "      <th>S/N</th>\n",
       "      <th>product</th>\n",
       "      <th>serial code</th>\n",
       "      <th>mnfg_data</th>\n",
       "      <th>exp_date</th>\n",
       "      <th>price</th>\n",
       "      <th>used</th>\n",
       "    </tr>\n",
       "  </thead>\n",
       "  <tbody>\n",
       "    <tr>\n",
       "      <th>0</th>\n",
       "      <td>1</td>\n",
       "      <td>Faire</td>\n",
       "      <td>109673462846</td>\n",
       "      <td>2019-01-12</td>\n",
       "      <td>2021-07-20</td>\n",
       "      <td>12500.0</td>\n",
       "      <td>Code Unused</td>\n",
       "    </tr>\n",
       "    <tr>\n",
       "      <th>1</th>\n",
       "      <td>2</td>\n",
       "      <td>Faire</td>\n",
       "      <td>119873452946</td>\n",
       "      <td>2017-01-12</td>\n",
       "      <td>2019-07-20</td>\n",
       "      <td>12500.0</td>\n",
       "      <td>Code Used</td>\n",
       "    </tr>\n",
       "    <tr>\n",
       "      <th>2</th>\n",
       "      <td>3</td>\n",
       "      <td>Faire</td>\n",
       "      <td>139773482866</td>\n",
       "      <td>2019-12-12</td>\n",
       "      <td>2021-12-20</td>\n",
       "      <td>12500.0</td>\n",
       "      <td>Code Unused</td>\n",
       "    </tr>\n",
       "    <tr>\n",
       "      <th>3</th>\n",
       "      <td>4</td>\n",
       "      <td>Faire</td>\n",
       "      <td>159633452846</td>\n",
       "      <td>2017-05-12</td>\n",
       "      <td>2019-12-20</td>\n",
       "      <td>12500.0</td>\n",
       "      <td>Code Unused</td>\n",
       "    </tr>\n",
       "    <tr>\n",
       "      <th>4</th>\n",
       "      <td>5</td>\n",
       "      <td>Faire</td>\n",
       "      <td>246576239745</td>\n",
       "      <td>2017-05-12</td>\n",
       "      <td>2019-12-20</td>\n",
       "      <td>12500.0</td>\n",
       "      <td>Code Used</td>\n",
       "    </tr>\n",
       "    <tr>\n",
       "      <th>5</th>\n",
       "      <td>6</td>\n",
       "      <td>Faire</td>\n",
       "      <td>129643566866</td>\n",
       "      <td>2019-01-12</td>\n",
       "      <td>2021-07-20</td>\n",
       "      <td>12500.0</td>\n",
       "      <td>Code Used</td>\n",
       "    </tr>\n",
       "  </tbody>\n",
       "</table>\n",
       "</div>"
      ],
      "text/plain": [
       "   S/N product   serial code   mnfg_data    exp_date    price         used\n",
       "0    1   Faire  109673462846  2019-01-12  2021-07-20  12500.0  Code Unused\n",
       "1    2   Faire  119873452946  2017-01-12  2019-07-20  12500.0    Code Used\n",
       "2    3   Faire  139773482866  2019-12-12  2021-12-20  12500.0  Code Unused\n",
       "3    4   Faire  159633452846  2017-05-12  2019-12-20  12500.0  Code Unused\n",
       "4    5   Faire  246576239745  2017-05-12  2019-12-20  12500.0    Code Used\n",
       "5    6   Faire  129643566866  2019-01-12  2021-07-20  12500.0    Code Used"
      ]
     },
     "execution_count": 11,
     "metadata": {},
     "output_type": "execute_result"
    }
   ],
   "source": [
    "query = \"\"\"\n",
    "         select * from products;\n",
    "        \"\"\"\n",
    "data = []\n",
    "results = readQuery(connection, query)\n",
    "for result in results:\n",
    "    data.append(result)\n",
    "columns = ['S/N', 'product', 'serial code','mnfg_data', 'exp_date', 'price', 'used']\n",
    "df = pd.DataFrame(data, columns= columns)\n",
    "df"
   ]
  },
  {
   "cell_type": "code",
   "execution_count": 78,
   "metadata": {
    "scrolled": false
   },
   "outputs": [
    {
     "data": {
      "text/plain": [
       "True"
      ]
     },
     "execution_count": 78,
     "metadata": {},
     "output_type": "execute_result"
    }
   ],
   "source": [
    "str(109673462846) in df['serial code'].values"
   ]
  },
  {
   "cell_type": "code",
   "execution_count": 65,
   "metadata": {},
   "outputs": [
    {
     "name": "stdout",
     "output_type": "stream",
     "text": [
      "Successfully  retrieved results\n",
      "('109673462846',)\n",
      "('119873452946',)\n",
      "('139773482866',)\n",
      "('159633452846',)\n",
      "('129643566866',)\n"
     ]
    }
   ],
   "source": [
    "# query = \"\"\"\n",
    "#          select serial_code from products;\n",
    "#         \"\"\"\n",
    "# results = readQuery(connection, query)\n",
    "# for result in results:\n",
    "#     print(result)"
   ]
  },
  {
   "cell_type": "code",
   "execution_count": 66,
   "metadata": {
    "scrolled": true
   },
   "outputs": [
    {
     "name": "stdout",
     "output_type": "stream",
     "text": [
      "Successfully  retrieved results\n",
      "(datetime.date(2021, 7, 20),)\n",
      "(datetime.date(2019, 7, 20),)\n",
      "(datetime.date(2021, 12, 20),)\n",
      "(datetime.date(2019, 12, 20),)\n",
      "(datetime.date(2021, 7, 20),)\n"
     ]
    }
   ],
   "source": [
    "# query = \"\"\"\n",
    "#          select exp_date from products;\n",
    "#         \"\"\"\n",
    "# results = readQuery(connection, query)\n",
    "# for result in results:\n",
    "#     print(result)"
   ]
  },
  {
   "cell_type": "code",
   "execution_count": 79,
   "metadata": {},
   "outputs": [
    {
     "name": "stdout",
     "output_type": "stream",
     "text": [
      "Query succesfully executed\n"
     ]
    }
   ],
   "source": [
    "# update command\n",
    "\n",
    "# insert data into created table\n",
    "query = \"\"\"\n",
    "            update products\n",
    "            set used = 'true'\n",
    "            where SN =3\n",
    "          \"\"\"\n",
    "execute_query(connection, query)"
   ]
  },
  {
   "cell_type": "code",
   "execution_count": null,
   "metadata": {},
   "outputs": [],
   "source": [
    "query = \"\"\"\n",
    "         select * from products;\n",
    "        \"\"\"\n",
    "data = []\n",
    "connection = dbConnect('localhost', 'root', '14041995', 'projects')\n",
    "results = readQuery(connection, query)\n",
    "for result in results:\n",
    "    data.append(result)\n",
    "columns = ['S/N', 'product', 'serial code','mnfg_data', 'exp_date', 'price', 'validity']\n",
    "df = pd.DataFrame(data, columns= columns)\n",
    "df"
   ]
  },
  {
   "cell_type": "code",
   "execution_count": 11,
   "metadata": {},
   "outputs": [
    {
     "name": "stdout",
     "output_type": "stream",
     "text": [
      "[]\n"
     ]
    }
   ],
   "source": [
    "print(results)"
   ]
  }
 ],
 "metadata": {
  "kernelspec": {
   "display_name": "Python 3",
   "language": "python",
   "name": "python3"
  },
  "language_info": {
   "codemirror_mode": {
    "name": "ipython",
    "version": 3
   },
   "file_extension": ".py",
   "mimetype": "text/x-python",
   "name": "python",
   "nbconvert_exporter": "python",
   "pygments_lexer": "ipython3",
   "version": "3.7.6"
  }
 },
 "nbformat": 4,
 "nbformat_minor": 4
}
